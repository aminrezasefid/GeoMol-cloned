{
 "cells": [
  {
   "cell_type": "code",
   "execution_count": 1,
   "metadata": {},
   "outputs": [],
   "source": [
    "import pandas as pd\n",
    "datasets=[\"HIV\",\"muv\",\"pcba\",\"qm7\",\"qm8\",\"qm9\",\"sider\",\"tox21\",\"toxcast\"]\n",
    "\n",
    "for dataset in datasets:\n",
    "    file_path=f\"data/MoleculeNet/{dataset}.csv\"\n",
    "    df=pd.read_csv(file_path)\n",
    "    smiles=df[\"smiles\"]\n",
    "    df_dict={\"smiles\":[],\"n_conformers\":[]}\n",
    "    for smile in smiles:\n",
    "        df_dict[\"smiles\"].append(smile)\n",
    "        df_dict[\"n_conformers\"].append(1)\n",
    "    new_df=pd.DataFrame.from_dict(df_dict)\n",
    "    new_df.to_csv(f\"data/test/{dataset}.csv\",index=False)\n",
    "\n"
   ]
  },
  {
   "cell_type": "code",
   "execution_count": null,
   "metadata": {},
   "outputs": [],
   "source": []
  }
 ],
 "metadata": {
  "kernelspec": {
   "display_name": "pvd",
   "language": "python",
   "name": "python3"
  },
  "language_info": {
   "codemirror_mode": {
    "name": "ipython",
    "version": 3
   },
   "file_extension": ".py",
   "mimetype": "text/x-python",
   "name": "python",
   "nbconvert_exporter": "python",
   "pygments_lexer": "ipython3",
   "version": "3.9.10"
  }
 },
 "nbformat": 4,
 "nbformat_minor": 2
}
